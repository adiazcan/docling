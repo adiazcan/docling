{
 "cells": [
  {
   "cell_type": "code",
   "execution_count": 1,
   "metadata": {},
   "outputs": [],
   "source": [
    "import logging\n",
    "from pathlib import Path\n",
    "from typing import Any, Iterable"
   ]
  },
  {
   "cell_type": "code",
   "execution_count": 2,
   "metadata": {},
   "outputs": [
    {
     "name": "stderr",
     "output_type": "stream",
     "text": [
      "/home/adiazcan/anaconda3/lib/python3.11/site-packages/pandas/core/arrays/masked.py:60: UserWarning: Pandas requires version '1.3.6' or newer of 'bottleneck' (version '1.3.5' currently installed).\n",
      "  from pandas.core import (\n"
     ]
    }
   ],
   "source": [
    "from docling_core.types.doc import (\n",
    "    DoclingDocument,\n",
    "    NodeItem,\n",
    "    PictureClassificationClass,\n",
    "    PictureClassificationData,\n",
    "    PictureItem,\n",
    ")"
   ]
  },
  {
   "cell_type": "code",
   "execution_count": 3,
   "metadata": {},
   "outputs": [],
   "source": [
    "from docling.datamodel.base_models import InputFormat\n",
    "from docling.datamodel.pipeline_options import PdfPipelineOptions\n",
    "from docling.document_converter import DocumentConverter, PdfFormatOption\n",
    "from docling.models.base_model import BaseEnrichmentModel\n",
    "from docling.pipeline.standard_pdf_pipeline import StandardPdfPipeline"
   ]
  },
  {
   "cell_type": "code",
   "execution_count": 4,
   "metadata": {},
   "outputs": [],
   "source": [
    "class ExamplePictureClassifierPipelineOptions(PdfPipelineOptions):\n",
    "    do_picture_classifer: bool = True"
   ]
  },
  {
   "cell_type": "code",
   "execution_count": 5,
   "metadata": {},
   "outputs": [],
   "source": [
    "class ExamplePictureClassifierEnrichmentModel(BaseEnrichmentModel):\n",
    "\n",
    "    def __init__(self, enabled: bool):\n",
    "        self.enabled = enabled\n",
    "\n",
    "    def is_processable(self, doc: DoclingDocument, element: NodeItem) -> bool:\n",
    "        return self.enabled and isinstance(element, PictureItem)\n",
    "\n",
    "    def __call__(\n",
    "        self, doc: DoclingDocument, element_batch: Iterable[NodeItem]\n",
    "    ) -> Iterable[Any]:\n",
    "        if not self.enabled:\n",
    "            return\n",
    "\n",
    "        for element in element_batch:\n",
    "            assert isinstance(element, PictureItem)\n",
    "\n",
    "            # uncomment this to interactively visualize the image\n",
    "            # element.get_image(doc).show()\n",
    "\n",
    "            element.annotations.append(\n",
    "                PictureClassificationData(\n",
    "                    provenance=\"example_classifier-0.0.1\",\n",
    "                    predicted_classes=[\n",
    "                        PictureClassificationClass(class_name=\"dummy\", confidence=0.42)\n",
    "                    ],\n",
    "                )\n",
    "            )\n",
    "\n",
    "            yield element"
   ]
  },
  {
   "cell_type": "code",
   "execution_count": 6,
   "metadata": {},
   "outputs": [],
   "source": [
    "class ExamplePictureClassifierPipeline(StandardPdfPipeline):\n",
    "\n",
    "    def __init__(self, pipeline_options: ExamplePictureClassifierPipelineOptions):\n",
    "        super().__init__(pipeline_options)\n",
    "        self.pipeline_options: ExamplePictureClassifierPipeline\n",
    "\n",
    "        self.enrichment_pipe = [\n",
    "            ExamplePictureClassifierEnrichmentModel(\n",
    "                enabled=pipeline_options.do_picture_classifer\n",
    "            )\n",
    "        ]\n",
    "\n",
    "    @classmethod\n",
    "    def get_default_options(cls) -> ExamplePictureClassifierPipelineOptions:\n",
    "        return ExamplePictureClassifierPipelineOptions()"
   ]
  },
  {
   "cell_type": "code",
   "execution_count": 7,
   "metadata": {},
   "outputs": [
    {
     "name": "stderr",
     "output_type": "stream",
     "text": [
      "INFO:docling.document_converter:Going to convert document batch...\n"
     ]
    },
    {
     "data": {
      "application/vnd.jupyter.widget-view+json": {
       "model_id": "087253e7f82141d8867e85b89c825403",
       "version_major": 2,
       "version_minor": 0
      },
      "text/plain": [
       "Fetching 9 files:   0%|          | 0/9 [00:00<?, ?it/s]"
      ]
     },
     "metadata": {},
     "output_type": "display_data"
    },
    {
     "name": "stderr",
     "output_type": "stream",
     "text": [
      "INFO:docling.pipeline.base_pipeline:Processing document paciente.pdf\n",
      "INFO:docling.document_converter:Finished converting document paciente.pdf in 96.43 sec.\n"
     ]
    },
    {
     "name": "stdout",
     "output_type": "stream",
     "text": [
      "The model populated the `data` portion of picture #/pictures/0:\n",
      "[PictureClassificationData(kind='classification', provenance='example_classifier-0.0.1', predicted_classes=[PictureClassificationClass(class_name='dummy', confidence=0.42)])]\n",
      "The model populated the `data` portion of picture #/pictures/1:\n",
      "[PictureClassificationData(kind='classification', provenance='example_classifier-0.0.1', predicted_classes=[PictureClassificationClass(class_name='dummy', confidence=0.42)])]\n",
      "The model populated the `data` portion of picture #/pictures/2:\n",
      "[PictureClassificationData(kind='classification', provenance='example_classifier-0.0.1', predicted_classes=[PictureClassificationClass(class_name='dummy', confidence=0.42)])]\n",
      "The model populated the `data` portion of picture #/pictures/3:\n",
      "[PictureClassificationData(kind='classification', provenance='example_classifier-0.0.1', predicted_classes=[PictureClassificationClass(class_name='dummy', confidence=0.42)])]\n",
      "The model populated the `data` portion of picture #/pictures/4:\n",
      "[PictureClassificationData(kind='classification', provenance='example_classifier-0.0.1', predicted_classes=[PictureClassificationClass(class_name='dummy', confidence=0.42)])]\n",
      "The model populated the `data` portion of picture #/pictures/5:\n",
      "[PictureClassificationData(kind='classification', provenance='example_classifier-0.0.1', predicted_classes=[PictureClassificationClass(class_name='dummy', confidence=0.42)])]\n",
      "The model populated the `data` portion of picture #/pictures/6:\n",
      "[PictureClassificationData(kind='classification', provenance='example_classifier-0.0.1', predicted_classes=[PictureClassificationClass(class_name='dummy', confidence=0.42)])]\n",
      "The model populated the `data` portion of picture #/pictures/7:\n",
      "[PictureClassificationData(kind='classification', provenance='example_classifier-0.0.1', predicted_classes=[PictureClassificationClass(class_name='dummy', confidence=0.42)])]\n",
      "The model populated the `data` portion of picture #/pictures/8:\n",
      "[PictureClassificationData(kind='classification', provenance='example_classifier-0.0.1', predicted_classes=[PictureClassificationClass(class_name='dummy', confidence=0.42)])]\n",
      "The model populated the `data` portion of picture #/pictures/9:\n",
      "[PictureClassificationData(kind='classification', provenance='example_classifier-0.0.1', predicted_classes=[PictureClassificationClass(class_name='dummy', confidence=0.42)])]\n",
      "The model populated the `data` portion of picture #/pictures/10:\n",
      "[PictureClassificationData(kind='classification', provenance='example_classifier-0.0.1', predicted_classes=[PictureClassificationClass(class_name='dummy', confidence=0.42)])]\n",
      "The model populated the `data` portion of picture #/pictures/11:\n",
      "[PictureClassificationData(kind='classification', provenance='example_classifier-0.0.1', predicted_classes=[PictureClassificationClass(class_name='dummy', confidence=0.42)])]\n",
      "The model populated the `data` portion of picture #/pictures/12:\n",
      "[PictureClassificationData(kind='classification', provenance='example_classifier-0.0.1', predicted_classes=[PictureClassificationClass(class_name='dummy', confidence=0.42)])]\n",
      "The model populated the `data` portion of picture #/pictures/13:\n",
      "[PictureClassificationData(kind='classification', provenance='example_classifier-0.0.1', predicted_classes=[PictureClassificationClass(class_name='dummy', confidence=0.42)])]\n",
      "The model populated the `data` portion of picture #/pictures/14:\n",
      "[PictureClassificationData(kind='classification', provenance='example_classifier-0.0.1', predicted_classes=[PictureClassificationClass(class_name='dummy', confidence=0.42)])]\n",
      "The model populated the `data` portion of picture #/pictures/15:\n",
      "[PictureClassificationData(kind='classification', provenance='example_classifier-0.0.1', predicted_classes=[PictureClassificationClass(class_name='dummy', confidence=0.42)])]\n",
      "The model populated the `data` portion of picture #/pictures/16:\n",
      "[PictureClassificationData(kind='classification', provenance='example_classifier-0.0.1', predicted_classes=[PictureClassificationClass(class_name='dummy', confidence=0.42)])]\n",
      "The model populated the `data` portion of picture #/pictures/17:\n",
      "[PictureClassificationData(kind='classification', provenance='example_classifier-0.0.1', predicted_classes=[PictureClassificationClass(class_name='dummy', confidence=0.42)])]\n",
      "The model populated the `data` portion of picture #/pictures/18:\n",
      "[PictureClassificationData(kind='classification', provenance='example_classifier-0.0.1', predicted_classes=[PictureClassificationClass(class_name='dummy', confidence=0.42)])]\n",
      "The model populated the `data` portion of picture #/pictures/19:\n",
      "[PictureClassificationData(kind='classification', provenance='example_classifier-0.0.1', predicted_classes=[PictureClassificationClass(class_name='dummy', confidence=0.42)])]\n",
      "The model populated the `data` portion of picture #/pictures/20:\n",
      "[PictureClassificationData(kind='classification', provenance='example_classifier-0.0.1', predicted_classes=[PictureClassificationClass(class_name='dummy', confidence=0.42)])]\n",
      "The model populated the `data` portion of picture #/pictures/21:\n",
      "[PictureClassificationData(kind='classification', provenance='example_classifier-0.0.1', predicted_classes=[PictureClassificationClass(class_name='dummy', confidence=0.42)])]\n",
      "The model populated the `data` portion of picture #/pictures/22:\n",
      "[PictureClassificationData(kind='classification', provenance='example_classifier-0.0.1', predicted_classes=[PictureClassificationClass(class_name='dummy', confidence=0.42)])]\n",
      "The model populated the `data` portion of picture #/pictures/23:\n",
      "[PictureClassificationData(kind='classification', provenance='example_classifier-0.0.1', predicted_classes=[PictureClassificationClass(class_name='dummy', confidence=0.42)])]\n",
      "The model populated the `data` portion of picture #/pictures/24:\n",
      "[PictureClassificationData(kind='classification', provenance='example_classifier-0.0.1', predicted_classes=[PictureClassificationClass(class_name='dummy', confidence=0.42)])]\n",
      "The model populated the `data` portion of picture #/pictures/25:\n",
      "[PictureClassificationData(kind='classification', provenance='example_classifier-0.0.1', predicted_classes=[PictureClassificationClass(class_name='dummy', confidence=0.42)])]\n",
      "The model populated the `data` portion of picture #/pictures/26:\n",
      "[PictureClassificationData(kind='classification', provenance='example_classifier-0.0.1', predicted_classes=[PictureClassificationClass(class_name='dummy', confidence=0.42)])]\n",
      "The model populated the `data` portion of picture #/pictures/27:\n",
      "[PictureClassificationData(kind='classification', provenance='example_classifier-0.0.1', predicted_classes=[PictureClassificationClass(class_name='dummy', confidence=0.42)])]\n",
      "The model populated the `data` portion of picture #/pictures/28:\n",
      "[PictureClassificationData(kind='classification', provenance='example_classifier-0.0.1', predicted_classes=[PictureClassificationClass(class_name='dummy', confidence=0.42)])]\n",
      "The model populated the `data` portion of picture #/pictures/29:\n",
      "[PictureClassificationData(kind='classification', provenance='example_classifier-0.0.1', predicted_classes=[PictureClassificationClass(class_name='dummy', confidence=0.42)])]\n",
      "The model populated the `data` portion of picture #/pictures/30:\n",
      "[PictureClassificationData(kind='classification', provenance='example_classifier-0.0.1', predicted_classes=[PictureClassificationClass(class_name='dummy', confidence=0.42)])]\n",
      "The model populated the `data` portion of picture #/pictures/31:\n",
      "[PictureClassificationData(kind='classification', provenance='example_classifier-0.0.1', predicted_classes=[PictureClassificationClass(class_name='dummy', confidence=0.42)])]\n",
      "The model populated the `data` portion of picture #/pictures/32:\n",
      "[PictureClassificationData(kind='classification', provenance='example_classifier-0.0.1', predicted_classes=[PictureClassificationClass(class_name='dummy', confidence=0.42)])]\n",
      "The model populated the `data` portion of picture #/pictures/33:\n",
      "[PictureClassificationData(kind='classification', provenance='example_classifier-0.0.1', predicted_classes=[PictureClassificationClass(class_name='dummy', confidence=0.42)])]\n",
      "The model populated the `data` portion of picture #/pictures/34:\n",
      "[PictureClassificationData(kind='classification', provenance='example_classifier-0.0.1', predicted_classes=[PictureClassificationClass(class_name='dummy', confidence=0.42)])]\n",
      "The model populated the `data` portion of picture #/pictures/35:\n",
      "[PictureClassificationData(kind='classification', provenance='example_classifier-0.0.1', predicted_classes=[PictureClassificationClass(class_name='dummy', confidence=0.42)])]\n",
      "The model populated the `data` portion of picture #/pictures/36:\n",
      "[PictureClassificationData(kind='classification', provenance='example_classifier-0.0.1', predicted_classes=[PictureClassificationClass(class_name='dummy', confidence=0.42)])]\n",
      "The model populated the `data` portion of picture #/pictures/37:\n",
      "[PictureClassificationData(kind='classification', provenance='example_classifier-0.0.1', predicted_classes=[PictureClassificationClass(class_name='dummy', confidence=0.42)])]\n",
      "The model populated the `data` portion of picture #/pictures/38:\n",
      "[PictureClassificationData(kind='classification', provenance='example_classifier-0.0.1', predicted_classes=[PictureClassificationClass(class_name='dummy', confidence=0.42)])]\n",
      "The model populated the `data` portion of picture #/pictures/39:\n",
      "[PictureClassificationData(kind='classification', provenance='example_classifier-0.0.1', predicted_classes=[PictureClassificationClass(class_name='dummy', confidence=0.42)])]\n",
      "The model populated the `data` portion of picture #/pictures/40:\n",
      "[PictureClassificationData(kind='classification', provenance='example_classifier-0.0.1', predicted_classes=[PictureClassificationClass(class_name='dummy', confidence=0.42)])]\n",
      "The model populated the `data` portion of picture #/pictures/41:\n",
      "[PictureClassificationData(kind='classification', provenance='example_classifier-0.0.1', predicted_classes=[PictureClassificationClass(class_name='dummy', confidence=0.42)])]\n",
      "The model populated the `data` portion of picture #/pictures/42:\n",
      "[PictureClassificationData(kind='classification', provenance='example_classifier-0.0.1', predicted_classes=[PictureClassificationClass(class_name='dummy', confidence=0.42)])]\n",
      "The model populated the `data` portion of picture #/pictures/43:\n",
      "[PictureClassificationData(kind='classification', provenance='example_classifier-0.0.1', predicted_classes=[PictureClassificationClass(class_name='dummy', confidence=0.42)])]\n",
      "The model populated the `data` portion of picture #/pictures/44:\n",
      "[PictureClassificationData(kind='classification', provenance='example_classifier-0.0.1', predicted_classes=[PictureClassificationClass(class_name='dummy', confidence=0.42)])]\n",
      "The model populated the `data` portion of picture #/pictures/45:\n",
      "[PictureClassificationData(kind='classification', provenance='example_classifier-0.0.1', predicted_classes=[PictureClassificationClass(class_name='dummy', confidence=0.42)])]\n",
      "The model populated the `data` portion of picture #/pictures/46:\n",
      "[PictureClassificationData(kind='classification', provenance='example_classifier-0.0.1', predicted_classes=[PictureClassificationClass(class_name='dummy', confidence=0.42)])]\n",
      "The model populated the `data` portion of picture #/pictures/47:\n",
      "[PictureClassificationData(kind='classification', provenance='example_classifier-0.0.1', predicted_classes=[PictureClassificationClass(class_name='dummy', confidence=0.42)])]\n",
      "The model populated the `data` portion of picture #/pictures/48:\n",
      "[PictureClassificationData(kind='classification', provenance='example_classifier-0.0.1', predicted_classes=[PictureClassificationClass(class_name='dummy', confidence=0.42)])]\n",
      "The model populated the `data` portion of picture #/pictures/49:\n",
      "[PictureClassificationData(kind='classification', provenance='example_classifier-0.0.1', predicted_classes=[PictureClassificationClass(class_name='dummy', confidence=0.42)])]\n",
      "The model populated the `data` portion of picture #/pictures/50:\n",
      "[PictureClassificationData(kind='classification', provenance='example_classifier-0.0.1', predicted_classes=[PictureClassificationClass(class_name='dummy', confidence=0.42)])]\n",
      "The model populated the `data` portion of picture #/pictures/51:\n",
      "[PictureClassificationData(kind='classification', provenance='example_classifier-0.0.1', predicted_classes=[PictureClassificationClass(class_name='dummy', confidence=0.42)])]\n",
      "The model populated the `data` portion of picture #/pictures/52:\n",
      "[PictureClassificationData(kind='classification', provenance='example_classifier-0.0.1', predicted_classes=[PictureClassificationClass(class_name='dummy', confidence=0.42)])]\n",
      "The model populated the `data` portion of picture #/pictures/53:\n",
      "[PictureClassificationData(kind='classification', provenance='example_classifier-0.0.1', predicted_classes=[PictureClassificationClass(class_name='dummy', confidence=0.42)])]\n",
      "The model populated the `data` portion of picture #/pictures/54:\n",
      "[PictureClassificationData(kind='classification', provenance='example_classifier-0.0.1', predicted_classes=[PictureClassificationClass(class_name='dummy', confidence=0.42)])]\n",
      "The model populated the `data` portion of picture #/pictures/55:\n",
      "[PictureClassificationData(kind='classification', provenance='example_classifier-0.0.1', predicted_classes=[PictureClassificationClass(class_name='dummy', confidence=0.42)])]\n",
      "The model populated the `data` portion of picture #/pictures/56:\n",
      "[PictureClassificationData(kind='classification', provenance='example_classifier-0.0.1', predicted_classes=[PictureClassificationClass(class_name='dummy', confidence=0.42)])]\n",
      "The model populated the `data` portion of picture #/pictures/57:\n",
      "[PictureClassificationData(kind='classification', provenance='example_classifier-0.0.1', predicted_classes=[PictureClassificationClass(class_name='dummy', confidence=0.42)])]\n",
      "The model populated the `data` portion of picture #/pictures/58:\n",
      "[PictureClassificationData(kind='classification', provenance='example_classifier-0.0.1', predicted_classes=[PictureClassificationClass(class_name='dummy', confidence=0.42)])]\n",
      "The model populated the `data` portion of picture #/pictures/59:\n",
      "[PictureClassificationData(kind='classification', provenance='example_classifier-0.0.1', predicted_classes=[PictureClassificationClass(class_name='dummy', confidence=0.42)])]\n",
      "The model populated the `data` portion of picture #/pictures/60:\n",
      "[PictureClassificationData(kind='classification', provenance='example_classifier-0.0.1', predicted_classes=[PictureClassificationClass(class_name='dummy', confidence=0.42)])]\n"
     ]
    }
   ],
   "source": [
    "logging.basicConfig(level=logging.INFO)\n",
    "\n",
    "input_doc_path = Path(\"./paciente.pdf\")\n",
    "\n",
    "pipeline_options = ExamplePictureClassifierPipelineOptions()\n",
    "pipeline_options.images_scale = 2.0\n",
    "pipeline_options.generate_picture_images = True\n",
    "\n",
    "doc_converter = DocumentConverter(\n",
    "    format_options={\n",
    "        InputFormat.PDF: PdfFormatOption(\n",
    "            pipeline_cls=ExamplePictureClassifierPipeline,\n",
    "            pipeline_options=pipeline_options,\n",
    "        )\n",
    "    }\n",
    ")\n",
    "result = doc_converter.convert(input_doc_path)\n",
    "\n",
    "for element, _level in result.document.iterate_items():\n",
    "    if isinstance(element, PictureItem):\n",
    "        print(\n",
    "            f\"The model populated the `data` portion of picture {element.self_ref}:\\n{element.annotations}\"\n",
    "        )"
   ]
  }
 ],
 "metadata": {
  "kernelspec": {
   "display_name": "base",
   "language": "python",
   "name": "python3"
  },
  "language_info": {
   "codemirror_mode": {
    "name": "ipython",
    "version": 3
   },
   "file_extension": ".py",
   "mimetype": "text/x-python",
   "name": "python",
   "nbconvert_exporter": "python",
   "pygments_lexer": "ipython3",
   "version": "3.11.5"
  }
 },
 "nbformat": 4,
 "nbformat_minor": 2
}
